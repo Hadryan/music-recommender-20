{
 "cells": [
  {
   "cell_type": "markdown",
   "id": "c89918c5",
   "metadata": {},
   "source": [
    "## KNN Content based approach - music recommender\n",
    "\n",
    "KNN is used to associate songs based on the different features of the dataset."
   ]
  },
  {
   "cell_type": "code",
   "execution_count": 2,
   "id": "16b6eec3",
   "metadata": {},
   "outputs": [],
   "source": [
    "# import dependencies\n",
    "\n",
    "import pandas as pd\n",
    "import numpy as np\n",
    "import sklearn.preprocessing as preprocessing\n",
    "from sklearn.neighbors import NearestNeighbors\n",
    "from sklearn.model_selection import train_test_split"
   ]
  },
  {
   "cell_type": "code",
   "execution_count": 4,
   "id": "712ecce1",
   "metadata": {},
   "outputs": [
    {
     "data": {
      "text/plain": [
       "artist_name                      Baka Beyond\n",
       "title                  Journey Album Version\n",
       "artist_location                     Cameroon\n",
       "release                     The Meeting Pool\n",
       "hotttness                           0.391484\n",
       "familiarity                         0.559823\n",
       "danceability                             0.0\n",
       "duration                           368.14322\n",
       "energy                                   0.0\n",
       "loudness                             -11.482\n",
       "year                                    1995\n",
       "tempo                                139.092\n",
       "analysis_rate                          22050\n",
       "end_of_fade_in                           0.0\n",
       "key                                        9\n",
       "key_confidence                         0.588\n",
       "mode                                       0\n",
       "mode_confidence                        0.367\n",
       "start_of_fade_out                    358.905\n",
       "time_signature                             4\n",
       "time_signature_conf                      0.0\n",
       "song_id                   SOXFJZQ12A6D4F81FB\n",
       "Name: 0, dtype: object"
      ]
     },
     "metadata": {},
     "output_type": "display_data"
    }
   ],
   "source": [
    "data_df = pd.read_csv('./output.csv', header=0)\n",
    "\n",
    "display(data_df.iloc[0])"
   ]
  },
  {
   "cell_type": "code",
   "execution_count": 6,
   "id": "4de7ca3e",
   "metadata": {},
   "outputs": [
    {
     "name": "stdout",
     "output_type": "stream",
     "text": [
      "10000\n",
      "10000\n"
     ]
    }
   ],
   "source": [
    "data_df = data_df.drop_duplicates(subset=['song_id', 'hotttness', 'familiarity', 'loudness', 'tempo', 'key', 'key_confidence', 'mode', 'mode_confidence'])\n",
    "print(len(data_df.index))\n",
    "data_df = data_df.reset_index(drop=True)"
   ]
  },
  {
   "cell_type": "code",
   "execution_count": 13,
   "id": "b006dd23",
   "metadata": {},
   "outputs": [],
   "source": [
    "features = ['hotttness', 'familiarity', 'loudness', 'key', 'mode', 'tempo']\n",
    "train_data = data_df[features]"
   ]
  },
  {
   "cell_type": "code",
   "execution_count": 15,
   "id": "bc700c6d",
   "metadata": {},
   "outputs": [],
   "source": [
    "# to avoid giving priority to features with bigger value range, normalization is done [0, 1]\n",
    "\n",
    "scaler = preprocessing.MinMaxScaler()\n",
    "train_data_normalized = scaler.fit_transform(train_data)"
   ]
  },
  {
   "cell_type": "code",
   "execution_count": 10,
   "id": "982589b3",
   "metadata": {},
   "outputs": [
    {
     "data": {
      "text/plain": [
       "NearestNeighbors(n_neighbors=10)"
      ]
     },
     "execution_count": 10,
     "metadata": {},
     "output_type": "execute_result"
    }
   ],
   "source": [
    "nearest_neighbor_model = NearestNeighbors(n_neighbors=10) # K = 10 for 10 closest songs\n",
    "nearest_neighbor_model.fit(train_data_normalized)"
   ]
  },
  {
   "cell_type": "markdown",
   "id": "73b13024",
   "metadata": {},
   "source": [
    "## Random song test"
   ]
  },
  {
   "cell_type": "code",
   "execution_count": 29,
   "id": "afae8c0c",
   "metadata": {},
   "outputs": [],
   "source": [
    "random_song = data_df.sample(n=1)\n",
    "rand_song_features = random_song[features]\n",
    "\n",
    "# normalize this data with scaler as well\n",
    "rand_song_features = scaler.transform(rand_song_features)"
   ]
  },
  {
   "cell_type": "code",
   "execution_count": 33,
   "id": "6deefe73",
   "metadata": {},
   "outputs": [
    {
     "name": "stdout",
     "output_type": "stream",
     "text": [
      "[9525  544 7477 6961 6122 8176 6109 4115 3595 7817]\n"
     ]
    }
   ],
   "source": [
    "# Run KNN for a random song\n",
    "\n",
    "similar_song_indexes = nearest_neighbor_model.kneighbors(rand_song_features, return_distance=False).flatten()\n",
    "print(similar_song_indexes)"
   ]
  },
  {
   "cell_type": "code",
   "execution_count": 38,
   "id": "e91e78f3",
   "metadata": {},
   "outputs": [
    {
     "data": {
      "text/html": [
       "<div>\n",
       "<style scoped>\n",
       "    .dataframe tbody tr th:only-of-type {\n",
       "        vertical-align: middle;\n",
       "    }\n",
       "\n",
       "    .dataframe tbody tr th {\n",
       "        vertical-align: top;\n",
       "    }\n",
       "\n",
       "    .dataframe thead th {\n",
       "        text-align: right;\n",
       "    }\n",
       "</style>\n",
       "<table border=\"1\" class=\"dataframe\">\n",
       "  <thead>\n",
       "    <tr style=\"text-align: right;\">\n",
       "      <th></th>\n",
       "      <th>artist_name</th>\n",
       "      <th>title</th>\n",
       "      <th>hotttness</th>\n",
       "      <th>familiarity</th>\n",
       "      <th>loudness</th>\n",
       "      <th>key</th>\n",
       "      <th>mode</th>\n",
       "      <th>tempo</th>\n",
       "    </tr>\n",
       "  </thead>\n",
       "  <tbody>\n",
       "    <tr>\n",
       "      <th>9525</th>\n",
       "      <td>Severed Heads</td>\n",
       "      <td>Hot With Fleas</td>\n",
       "      <td>0.394274</td>\n",
       "      <td>0.525483</td>\n",
       "      <td>-7.574</td>\n",
       "      <td>1</td>\n",
       "      <td>1</td>\n",
       "      <td>121.369</td>\n",
       "    </tr>\n",
       "  </tbody>\n",
       "</table>\n",
       "</div>"
      ],
      "text/plain": [
       "        artist_name           title  hotttness  familiarity  loudness  key  \\\n",
       "9525  Severed Heads  Hot With Fleas   0.394274     0.525483    -7.574    1   \n",
       "\n",
       "      mode    tempo  \n",
       "9525     1  121.369  "
      ]
     },
     "execution_count": 38,
     "metadata": {},
     "output_type": "execute_result"
    }
   ],
   "source": [
    "random_song[['artist_name', 'title', ] + features]"
   ]
  },
  {
   "cell_type": "markdown",
   "id": "4b07a1a5",
   "metadata": {},
   "source": [
    "## Find closest songs"
   ]
  },
  {
   "cell_type": "code",
   "execution_count": 39,
   "id": "a06f0ae1",
   "metadata": {},
   "outputs": [
    {
     "data": {
      "text/html": [
       "<div>\n",
       "<style scoped>\n",
       "    .dataframe tbody tr th:only-of-type {\n",
       "        vertical-align: middle;\n",
       "    }\n",
       "\n",
       "    .dataframe tbody tr th {\n",
       "        vertical-align: top;\n",
       "    }\n",
       "\n",
       "    .dataframe thead th {\n",
       "        text-align: right;\n",
       "    }\n",
       "</style>\n",
       "<table border=\"1\" class=\"dataframe\">\n",
       "  <thead>\n",
       "    <tr style=\"text-align: right;\">\n",
       "      <th></th>\n",
       "      <th>artist_name</th>\n",
       "      <th>title</th>\n",
       "      <th>hotttness</th>\n",
       "      <th>familiarity</th>\n",
       "      <th>loudness</th>\n",
       "      <th>key</th>\n",
       "      <th>mode</th>\n",
       "      <th>tempo</th>\n",
       "    </tr>\n",
       "  </thead>\n",
       "  <tbody>\n",
       "    <tr>\n",
       "      <th>9525</th>\n",
       "      <td>Severed Heads</td>\n",
       "      <td>Hot With Fleas</td>\n",
       "      <td>0.394274</td>\n",
       "      <td>0.525483</td>\n",
       "      <td>-7.574</td>\n",
       "      <td>1</td>\n",
       "      <td>1</td>\n",
       "      <td>121.369</td>\n",
       "    </tr>\n",
       "    <tr>\n",
       "      <th>544</th>\n",
       "      <td>Bertine Zetlitz</td>\n",
       "      <td>Midnight</td>\n",
       "      <td>0.379278</td>\n",
       "      <td>0.538402</td>\n",
       "      <td>-7.286</td>\n",
       "      <td>1</td>\n",
       "      <td>1</td>\n",
       "      <td>125.026</td>\n",
       "    </tr>\n",
       "    <tr>\n",
       "      <th>7477</th>\n",
       "      <td>DJ Gollum vs Basslovers United</td>\n",
       "      <td>Narcotic</td>\n",
       "      <td>0.400480</td>\n",
       "      <td>0.541764</td>\n",
       "      <td>-7.509</td>\n",
       "      <td>1</td>\n",
       "      <td>1</td>\n",
       "      <td>127.859</td>\n",
       "    </tr>\n",
       "    <tr>\n",
       "      <th>6961</th>\n",
       "      <td>Phil Ochs</td>\n",
       "      <td>Thats What I Want To Hear LP Version</td>\n",
       "      <td>0.387197</td>\n",
       "      <td>0.527316</td>\n",
       "      <td>-8.114</td>\n",
       "      <td>1</td>\n",
       "      <td>1</td>\n",
       "      <td>131.268</td>\n",
       "    </tr>\n",
       "    <tr>\n",
       "      <th>6122</th>\n",
       "      <td>Pete Philly  Perquisite</td>\n",
       "      <td>Last Love Song</td>\n",
       "      <td>0.433781</td>\n",
       "      <td>0.539010</td>\n",
       "      <td>-7.623</td>\n",
       "      <td>1</td>\n",
       "      <td>1</td>\n",
       "      <td>126.057</td>\n",
       "    </tr>\n",
       "    <tr>\n",
       "      <th>8176</th>\n",
       "      <td>Pete Philly  Perquisite</td>\n",
       "      <td>Paranoid</td>\n",
       "      <td>0.433781</td>\n",
       "      <td>0.539010</td>\n",
       "      <td>-8.558</td>\n",
       "      <td>1</td>\n",
       "      <td>1</td>\n",
       "      <td>121.998</td>\n",
       "    </tr>\n",
       "    <tr>\n",
       "      <th>6109</th>\n",
       "      <td>Obk</td>\n",
       "      <td>Último Carnaval</td>\n",
       "      <td>0.423704</td>\n",
       "      <td>0.528587</td>\n",
       "      <td>-8.694</td>\n",
       "      <td>1</td>\n",
       "      <td>1</td>\n",
       "      <td>129.957</td>\n",
       "    </tr>\n",
       "    <tr>\n",
       "      <th>4115</th>\n",
       "      <td>Candido</td>\n",
       "      <td>Thousand Finger Man</td>\n",
       "      <td>0.351932</td>\n",
       "      <td>0.544066</td>\n",
       "      <td>-6.418</td>\n",
       "      <td>1</td>\n",
       "      <td>1</td>\n",
       "      <td>121.921</td>\n",
       "    </tr>\n",
       "    <tr>\n",
       "      <th>3595</th>\n",
       "      <td>Neema</td>\n",
       "      <td>Indian Queen</td>\n",
       "      <td>0.355790</td>\n",
       "      <td>0.523161</td>\n",
       "      <td>-6.547</td>\n",
       "      <td>1</td>\n",
       "      <td>1</td>\n",
       "      <td>114.050</td>\n",
       "    </tr>\n",
       "    <tr>\n",
       "      <th>7817</th>\n",
       "      <td>Dionysus</td>\n",
       "      <td>Tides Will Turn</td>\n",
       "      <td>0.414753</td>\n",
       "      <td>0.537452</td>\n",
       "      <td>-5.475</td>\n",
       "      <td>1</td>\n",
       "      <td>1</td>\n",
       "      <td>127.052</td>\n",
       "    </tr>\n",
       "  </tbody>\n",
       "</table>\n",
       "</div>"
      ],
      "text/plain": [
       "                         artist_name                                 title  \\\n",
       "9525                   Severed Heads                        Hot With Fleas   \n",
       "544                  Bertine Zetlitz                              Midnight   \n",
       "7477  DJ Gollum vs Basslovers United                              Narcotic   \n",
       "6961                       Phil Ochs  Thats What I Want To Hear LP Version   \n",
       "6122         Pete Philly  Perquisite                        Last Love Song   \n",
       "8176         Pete Philly  Perquisite                              Paranoid   \n",
       "6109                             Obk                       Último Carnaval   \n",
       "4115                         Candido                   Thousand Finger Man   \n",
       "3595                           Neema                          Indian Queen   \n",
       "7817                        Dionysus                       Tides Will Turn   \n",
       "\n",
       "      hotttness  familiarity  loudness  key  mode    tempo  \n",
       "9525   0.394274     0.525483    -7.574    1     1  121.369  \n",
       "544    0.379278     0.538402    -7.286    1     1  125.026  \n",
       "7477   0.400480     0.541764    -7.509    1     1  127.859  \n",
       "6961   0.387197     0.527316    -8.114    1     1  131.268  \n",
       "6122   0.433781     0.539010    -7.623    1     1  126.057  \n",
       "8176   0.433781     0.539010    -8.558    1     1  121.998  \n",
       "6109   0.423704     0.528587    -8.694    1     1  129.957  \n",
       "4115   0.351932     0.544066    -6.418    1     1  121.921  \n",
       "3595   0.355790     0.523161    -6.547    1     1  114.050  \n",
       "7817   0.414753     0.537452    -5.475    1     1  127.052  "
      ]
     },
     "execution_count": 39,
     "metadata": {},
     "output_type": "execute_result"
    }
   ],
   "source": [
    "closest_songs = data_df.iloc[similar_song_indexes, :]\n",
    "closest_songs[['artist_name', 'title'] + features]"
   ]
  }
 ],
 "metadata": {
  "kernelspec": {
   "display_name": "Python 3",
   "language": "python",
   "name": "python3"
  },
  "language_info": {
   "codemirror_mode": {
    "name": "ipython",
    "version": 3
   },
   "file_extension": ".py",
   "mimetype": "text/x-python",
   "name": "python",
   "nbconvert_exporter": "python",
   "pygments_lexer": "ipython3",
   "version": "3.9.0"
  }
 },
 "nbformat": 4,
 "nbformat_minor": 5
}
