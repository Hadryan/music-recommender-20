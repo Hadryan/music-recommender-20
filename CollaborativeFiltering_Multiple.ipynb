{
 "cells": [
  {
   "cell_type": "markdown",
   "id": "6f937bfd",
   "metadata": {},
   "source": [
    "## Collaborative Filtering approach\n",
    "\n",
    "Below are CF based approaches for music recommendation and analysis of RMSE for each."
   ]
  },
  {
   "cell_type": "code",
   "execution_count": 8,
   "id": "a3534e03",
   "metadata": {},
   "outputs": [],
   "source": [
    "# import dependencies\n",
    "\n",
    "import matplotlib.pyplot as plt\n",
    "import numpy as np\n",
    "import pandas as pd\n",
    "from surprise import Dataset, Reader\n",
    "from surprise import SVD, KNNBasic\n",
    "from surprise.prediction_algorithms.slope_one import SlopeOne\n",
    "from surprise.prediction_algorithms.co_clustering import CoClustering\n",
    "from surprise.prediction_algorithms.matrix_factorization import NMF\n",
    "from surprise.prediction_algorithms.matrix_factorization import SVDpp\n",
    "from surprise import accuracy\n",
    "from surprise.model_selection import cross_validate, train_test_split\n",
    "from collections import defaultdict"
   ]
  },
  {
   "cell_type": "code",
   "execution_count": 9,
   "id": "88288b90",
   "metadata": {},
   "outputs": [],
   "source": [
    "user_data_df = pd.read_csv('./output_plays_small_preprocessed.csv')\n",
    "user_data_df.columns = ['userID', 'songID', 'playCount']"
   ]
  },
  {
   "cell_type": "code",
   "execution_count": 43,
   "id": "d6f99945",
   "metadata": {},
   "outputs": [],
   "source": [
    "song_df =  pd.read_csv('./output.csv')\n"
   ]
  },
  {
   "cell_type": "code",
   "execution_count": 11,
   "id": "3c067ae4",
   "metadata": {},
   "outputs": [],
   "source": [
    "dataset = Dataset.load_from_df(user_data_df, Reader(rating_scale=(0, 5)))\n",
    "trainset, testset = train_test_split(dataset, test_size=0.25)"
   ]
  },
  {
   "cell_type": "code",
   "execution_count": 12,
   "id": "cda1f91a",
   "metadata": {},
   "outputs": [
    {
     "data": {
      "text/plain": [
       "0.37634661827066906"
      ]
     },
     "execution_count": 12,
     "metadata": {},
     "output_type": "execute_result"
    }
   ],
   "source": [
    "svd = SVD()\n",
    "svd_rmse = np.mean(cross_validate(svd, dataset, measures=['RMSE'], cv=5)['test_rmse'])\n",
    "svd_rmse"
   ]
  },
  {
   "cell_type": "code",
   "execution_count": 13,
   "id": "fe16e376",
   "metadata": {},
   "outputs": [
    {
     "name": "stdout",
     "output_type": "stream",
     "text": [
      "Computing the cosine similarity matrix...\n"
     ]
    },
    {
     "name": "stderr",
     "output_type": "stream",
     "text": [
      "/Users/sava/miniforge3/envs/test/lib/python3.8/site-packages/surprise/prediction_algorithms/algo_base.py:249: RuntimeWarning: invalid value encountered in double_scalars\n",
      "  sim = construction_func[name](*args)\n"
     ]
    },
    {
     "name": "stdout",
     "output_type": "stream",
     "text": [
      "Done computing similarity matrix.\n",
      "Computing the cosine similarity matrix...\n",
      "Done computing similarity matrix.\n",
      "Computing the cosine similarity matrix...\n",
      "Done computing similarity matrix.\n",
      "Computing the cosine similarity matrix...\n",
      "Done computing similarity matrix.\n",
      "Computing the cosine similarity matrix...\n",
      "Done computing similarity matrix.\n"
     ]
    },
    {
     "data": {
      "text/plain": [
       "0.4189944841703358"
      ]
     },
     "execution_count": 13,
     "metadata": {},
     "output_type": "execute_result"
    }
   ],
   "source": [
    "knn = KNNBasic(k=5, sim_options={'name': 'cosine','user_based': True})\n",
    "knn_rmse = np.mean(cross_validate(knn, dataset, measures=['RMSE'], cv=5)['test_rmse'])\n",
    "knn_rmse"
   ]
  },
  {
   "cell_type": "code",
   "execution_count": 14,
   "id": "f325166b",
   "metadata": {},
   "outputs": [
    {
     "data": {
      "text/plain": [
       "0.43339897080818657"
      ]
     },
     "execution_count": 14,
     "metadata": {},
     "output_type": "execute_result"
    }
   ],
   "source": [
    "cc = CoClustering()\n",
    "cc_rmse = np.mean(cross_validate(cc, dataset, measures=['RMSE'], cv=5)['test_rmse'])\n",
    "cc_rmse"
   ]
  },
  {
   "cell_type": "code",
   "execution_count": 17,
   "id": "7d6fbed5",
   "metadata": {},
   "outputs": [
    {
     "data": {
      "image/png": "[encoded data removed]",
      "text/plain": [
       "<Figure size 1120x700 with 1 Axes>"
      ]
     },
     "metadata": {},
     "output_type": "display_data"
    }
   ],
   "source": [
    "fig=plt.figure(figsize=(16, 10), dpi= 70, facecolor='w', edgecolor='k')\n",
    "plt.bar([0,1,2], [svd_rmse, knn_rmse, cc_rmse])\n",
    "plt.xticks([0,1,2], ('Singular Value Decomposition', 'K-Nearest Neigbors', 'Co-Clustering'))\n",
    "plt.ylabel('Root Mean Square Error')\n",
    "plt.show()"
   ]
  },
  {
   "cell_type": "markdown",
   "id": "2c8f41f0",
   "metadata": {},
   "source": [
    "## Testing algorithm on a user\n",
    "\n",
    "Returning top 10 recommendations for a single user."
   ]
  },
  {
   "cell_type": "code",
   "execution_count": 18,
   "id": "ec90f7a5",
   "metadata": {},
   "outputs": [],
   "source": [
    "def get_top_n(user_id, predictions, n=10):\n",
    "    # Map the predictions to each user.\n",
    "    top_n = defaultdict(list)\n",
    "    for uid, iid, true_r, est, _ in predictions:\n",
    "        if uid == user_id:\n",
    "            top_n[uid].append((iid, est))\n",
    "\n",
    "    # Sort the predictions for each user and retrieve the k highest ones.\n",
    "    for uid, user_ratings in top_n.items():\n",
    "        user_ratings.sort(key=lambda x: x[1], reverse=True)\n",
    "        top_n[uid] = user_ratings[:n]\n",
    "\n",
    "    return top_n"
   ]
  },
  {
   "cell_type": "code",
   "execution_count": 45,
   "id": "b3c48d11",
   "metadata": {},
   "outputs": [
    {
     "data": {
      "text/html": [
       "<div>\n",
       "<style scoped>\n",
       "    .dataframe tbody tr th:only-of-type {\n",
       "        vertical-align: middle;\n",
       "    }\n",
       "\n",
       "    .dataframe tbody tr th {\n",
       "        vertical-align: top;\n",
       "    }\n",
       "\n",
       "    .dataframe thead th {\n",
       "        text-align: right;\n",
       "    }\n",
       "</style>\n",
       "<table border=\"1\" class=\"dataframe\">\n",
       "  <thead>\n",
       "    <tr style=\"text-align: right;\">\n",
       "      <th></th>\n",
       "      <th>artist_name</th>\n",
       "      <th>title</th>\n",
       "      <th>artist_location</th>\n",
       "      <th>release</th>\n",
       "      <th>hotttness</th>\n",
       "      <th>familiarity</th>\n",
       "      <th>danceability</th>\n",
       "      <th>duration</th>\n",
       "      <th>energy</th>\n",
       "      <th>loudness</th>\n",
       "      <th>...</th>\n",
       "      <th>analysis_rate</th>\n",
       "      <th>end_of_fade_in</th>\n",
       "      <th>key</th>\n",
       "      <th>key_confidence</th>\n",
       "      <th>mode</th>\n",
       "      <th>mode_confidence</th>\n",
       "      <th>start_of_fade_out</th>\n",
       "      <th>time_signature</th>\n",
       "      <th>time_signature_conf</th>\n",
       "      <th>song_id</th>\n",
       "    </tr>\n",
       "  </thead>\n",
       "  <tbody>\n",
       "    <tr>\n",
       "      <th>0</th>\n",
       "      <td>Baka Beyond</td>\n",
       "      <td>Journey Album Version</td>\n",
       "      <td>Cameroon</td>\n",
       "      <td>The Meeting Pool</td>\n",
       "      <td>0.391484</td>\n",
       "      <td>0.559823</td>\n",
       "      <td>0.0</td>\n",
       "      <td>368.14322</td>\n",
       "      <td>0.0</td>\n",
       "      <td>-11.482</td>\n",
       "      <td>...</td>\n",
       "      <td>22050</td>\n",
       "      <td>0.000</td>\n",
       "      <td>9</td>\n",
       "      <td>0.588</td>\n",
       "      <td>0</td>\n",
       "      <td>0.367</td>\n",
       "      <td>358.905</td>\n",
       "      <td>4</td>\n",
       "      <td>0.000</td>\n",
       "      <td>SOXFJZQ12A6D4F81FB</td>\n",
       "    </tr>\n",
       "    <tr>\n",
       "      <th>1</th>\n",
       "      <td>The Fleetwoods</td>\n",
       "      <td>Ten Times Blue</td>\n",
       "      <td>Olympia WA</td>\n",
       "      <td>Come Softly To Me The Very Best Of The Fleetwoods</td>\n",
       "      <td>0.397711</td>\n",
       "      <td>0.503821</td>\n",
       "      <td>0.0</td>\n",
       "      <td>175.59465</td>\n",
       "      <td>0.0</td>\n",
       "      <td>-15.193</td>\n",
       "      <td>...</td>\n",
       "      <td>22050</td>\n",
       "      <td>0.374</td>\n",
       "      <td>5</td>\n",
       "      <td>0.595</td>\n",
       "      <td>1</td>\n",
       "      <td>0.519</td>\n",
       "      <td>160.142</td>\n",
       "      <td>4</td>\n",
       "      <td>0.769</td>\n",
       "      <td>SOMSPXD12A8C139F36</td>\n",
       "    </tr>\n",
       "    <tr>\n",
       "      <th>2</th>\n",
       "      <td>Joe Satriani</td>\n",
       "      <td>Its So Good</td>\n",
       "      <td>Westbury Long Island NY</td>\n",
       "      <td>Super Colossal</td>\n",
       "      <td>0.620948</td>\n",
       "      <td>0.705876</td>\n",
       "      <td>0.0</td>\n",
       "      <td>254.85016</td>\n",
       "      <td>0.0</td>\n",
       "      <td>-4.707</td>\n",
       "      <td>...</td>\n",
       "      <td>22050</td>\n",
       "      <td>0.113</td>\n",
       "      <td>7</td>\n",
       "      <td>0.100</td>\n",
       "      <td>1</td>\n",
       "      <td>0.393</td>\n",
       "      <td>238.939</td>\n",
       "      <td>4</td>\n",
       "      <td>0.895</td>\n",
       "      <td>SOSIYAD12A8C14097F</td>\n",
       "    </tr>\n",
       "    <tr>\n",
       "      <th>3</th>\n",
       "      <td>LANDA DANIEL</td>\n",
       "      <td>A KDO TEDA VODDELAL TOHO FANDU</td>\n",
       "      <td>NaN</td>\n",
       "      <td>Konec</td>\n",
       "      <td>0.000000</td>\n",
       "      <td>0.013031</td>\n",
       "      <td>0.0</td>\n",
       "      <td>162.21995</td>\n",
       "      <td>0.0</td>\n",
       "      <td>-13.007</td>\n",
       "      <td>...</td>\n",
       "      <td>22050</td>\n",
       "      <td>0.287</td>\n",
       "      <td>9</td>\n",
       "      <td>0.591</td>\n",
       "      <td>0</td>\n",
       "      <td>0.671</td>\n",
       "      <td>154.273</td>\n",
       "      <td>1</td>\n",
       "      <td>0.147</td>\n",
       "      <td>SOHPHTP12A8C13BF53</td>\n",
       "    </tr>\n",
       "    <tr>\n",
       "      <th>4</th>\n",
       "      <td>Nickodemus</td>\n",
       "      <td>Endangered Species</td>\n",
       "      <td>New York NY</td>\n",
       "      <td>Turntables On The Hudson Lunar New Year 4707</td>\n",
       "      <td>0.372731</td>\n",
       "      <td>0.573806</td>\n",
       "      <td>0.0</td>\n",
       "      <td>276.53179</td>\n",
       "      <td>0.0</td>\n",
       "      <td>-8.107</td>\n",
       "      <td>...</td>\n",
       "      <td>22050</td>\n",
       "      <td>4.963</td>\n",
       "      <td>3</td>\n",
       "      <td>0.170</td>\n",
       "      <td>0</td>\n",
       "      <td>0.031</td>\n",
       "      <td>263.622</td>\n",
       "      <td>5</td>\n",
       "      <td>0.278</td>\n",
       "      <td>SOHXIRQ12AAA15CF81</td>\n",
       "    </tr>\n",
       "  </tbody>\n",
       "</table>\n",
       "<p>5 rows × 22 columns</p>\n",
       "</div>"
      ],
      "text/plain": [
       "      artist_name                           title          artist_location  \\\n",
       "0     Baka Beyond           Journey Album Version                 Cameroon   \n",
       "1  The Fleetwoods                  Ten Times Blue               Olympia WA   \n",
       "2    Joe Satriani                     Its So Good  Westbury Long Island NY   \n",
       "3    LANDA DANIEL  A KDO TEDA VODDELAL TOHO FANDU                      NaN   \n",
       "4      Nickodemus              Endangered Species              New York NY   \n",
       "\n",
       "                                             release  hotttness  familiarity  \\\n",
       "0                                   The Meeting Pool   0.391484     0.559823   \n",
       "1  Come Softly To Me The Very Best Of The Fleetwoods   0.397711     0.503821   \n",
       "2                                     Super Colossal   0.620948     0.705876   \n",
       "3                                              Konec   0.000000     0.013031   \n",
       "4       Turntables On The Hudson Lunar New Year 4707   0.372731     0.573806   \n",
       "\n",
       "   danceability   duration  energy  loudness  ...  analysis_rate  \\\n",
       "0           0.0  368.14322     0.0   -11.482  ...          22050   \n",
       "1           0.0  175.59465     0.0   -15.193  ...          22050   \n",
       "2           0.0  254.85016     0.0    -4.707  ...          22050   \n",
       "3           0.0  162.21995     0.0   -13.007  ...          22050   \n",
       "4           0.0  276.53179     0.0    -8.107  ...          22050   \n",
       "\n",
       "   end_of_fade_in  key  key_confidence  mode  mode_confidence  \\\n",
       "0           0.000    9           0.588     0            0.367   \n",
       "1           0.374    5           0.595     1            0.519   \n",
       "2           0.113    7           0.100     1            0.393   \n",
       "3           0.287    9           0.591     0            0.671   \n",
       "4           4.963    3           0.170     0            0.031   \n",
       "\n",
       "   start_of_fade_out  time_signature  time_signature_conf             song_id  \n",
       "0            358.905               4                0.000  SOXFJZQ12A6D4F81FB  \n",
       "1            160.142               4                0.769  SOMSPXD12A8C139F36  \n",
       "2            238.939               4                0.895  SOSIYAD12A8C14097F  \n",
       "3            154.273               1                0.147  SOHPHTP12A8C13BF53  \n",
       "4            263.622               5                0.278  SOHXIRQ12AAA15CF81  \n",
       "\n",
       "[5 rows x 22 columns]"
      ]
     },
     "execution_count": 45,
     "metadata": {},
     "output_type": "execute_result"
    }
   ],
   "source": [
    "song_df.shape\n",
    "song_df.head()"
   ]
  },
  {
   "cell_type": "code",
   "execution_count": 63,
   "id": "9c61fdbd",
   "metadata": {},
   "outputs": [
    {
     "data": {
      "text/html": [
       "<div>\n",
       "<style scoped>\n",
       "    .dataframe tbody tr th:only-of-type {\n",
       "        vertical-align: middle;\n",
       "    }\n",
       "\n",
       "    .dataframe tbody tr th {\n",
       "        vertical-align: top;\n",
       "    }\n",
       "\n",
       "    .dataframe thead th {\n",
       "        text-align: right;\n",
       "    }\n",
       "</style>\n",
       "<table border=\"1\" class=\"dataframe\">\n",
       "  <thead>\n",
       "    <tr style=\"text-align: right;\">\n",
       "      <th></th>\n",
       "      <th>title</th>\n",
       "      <th>artist</th>\n",
       "      <th>year</th>\n",
       "    </tr>\n",
       "  </thead>\n",
       "  <tbody>\n",
       "    <tr>\n",
       "      <th>0</th>\n",
       "      <td>Walking On The Moon</td>\n",
       "      <td>The Police</td>\n",
       "      <td>1979</td>\n",
       "    </tr>\n",
       "    <tr>\n",
       "      <th>1</th>\n",
       "      <td>No Pasará Lo Mismo</td>\n",
       "      <td>Rafael Orozco Con El Binomio De Oro</td>\n",
       "      <td>0</td>\n",
       "    </tr>\n",
       "    <tr>\n",
       "      <th>2</th>\n",
       "      <td>Las flores</td>\n",
       "      <td>Café Tacvba</td>\n",
       "      <td>1994</td>\n",
       "    </tr>\n",
       "  </tbody>\n",
       "</table>\n",
       "</div>"
      ],
      "text/plain": [
       "                 title                               artist  year\n",
       "0  Walking On The Moon                           The Police  1979\n",
       "1   No Pasará Lo Mismo  Rafael Orozco Con El Binomio De Oro     0\n",
       "2           Las flores                          Café Tacvba  1994"
      ]
     },
     "execution_count": 63,
     "metadata": {},
     "output_type": "execute_result"
    }
   ],
   "source": [
    "import random\n",
    "\n",
    "predictions_svd = svd.test(testset)\n",
    "# user_id = random.sample(set(user_data_df['userID'].unique()),1)[0]\n",
    "user_id = '1f93e135c4c4ca9b6f1509614c2cdd8a32b54fc8'\n",
    "\n",
    "top_n = get_top_n(user_id, predictions_svd, n=3)\n",
    "\n",
    "recommendations = pd.DataFrame(columns=['title', 'artist', 'year'])\n",
    "# Print the recommended items for each user\n",
    "for uid, user_ratings in top_n.items():\n",
    "    for rating in user_ratings:\n",
    "        song_id = rating[0]\n",
    "        if song_df[song_df['song_id'] == song_id].empty:\n",
    "            continue\n",
    "        song_title = song_df[song_df['song_id'] == song_id]['title'].to_string().split('    ')[1]\n",
    "        artist = song_df[song_df['song_id'] == song_id]['artist_name'].to_string().split('    ')[1]\n",
    "        year = song_df[song_df['song_id'] == song_id]['year'].to_string().split('    ')[1]\n",
    "        recommendations = recommendations.append({'title': song_title, 'artist': artist, 'year': year}, ignore_index=True)\n",
    "\n",
    "recommendations"
   ]
  },
  {
   "cell_type": "code",
   "execution_count": null,
   "id": "9da4d1d1",
   "metadata": {},
   "outputs": [],
   "source": []
  }
 ],
 "metadata": {
  "kernelspec": {
   "display_name": "Python 3",
   "language": "python",
   "name": "python3"
  },
  "language_info": {
   "codemirror_mode": {
    "name": "ipython",
    "version": 3
   },
   "file_extension": ".py",
   "mimetype": "text/x-python",
   "name": "python",
   "nbconvert_exporter": "python",
   "pygments_lexer": "ipython3",
   "version": "3.9.0"
  }
 },
 "nbformat": 4,
 "nbformat_minor": 5
}
