{
 "cells": [
  {
   "cell_type": "code",
   "execution_count": 1,
   "id": "07565b0b",
   "metadata": {},
   "outputs": [],
   "source": [
    "from fastai.collab import *\n",
    "from fastai.tabular import *\n",
    "from sklearn.model_selection import train_test_split\n",
    "import pandas as pd"
   ]
  },
  {
   "cell_type": "code",
   "execution_count": 2,
   "id": "11b793d2",
   "metadata": {},
   "outputs": [
    {
     "data": {
      "text/plain": [
       "(999882, 3)"
      ]
     },
     "execution_count": 2,
     "metadata": {},
     "output_type": "execute_result"
    }
   ],
   "source": [
    "ratings = pd.read_csv('./output_plays_small_preprocessed.csv')\n",
    "ratings.head()\n",
    "ratings.shape"
   ]
  },
  {
   "cell_type": "code",
   "execution_count": 3,
   "id": "a8bee500",
   "metadata": {},
   "outputs": [],
   "source": [
    "ratings.columns = ['userID', 'songID', 'playCount']\n",
    "\n"
   ]
  },
  {
   "cell_type": "code",
   "execution_count": 4,
   "id": "e0cbc6e5",
   "metadata": {},
   "outputs": [
    {
     "data": {
      "text/plain": [
       "0    956746\n",
       "1     29279\n",
       "2      7420\n",
       "3      2879\n",
       "5      2138\n",
       "4      1420\n",
       "Name: playCount, dtype: int64"
      ]
     },
     "execution_count": 4,
     "metadata": {},
     "output_type": "execute_result"
    }
   ],
   "source": [
    "ratings['playCount'].value_counts()\n"
   ]
  },
  {
   "cell_type": "code",
   "execution_count": 5,
   "id": "9ebdca5f",
   "metadata": {},
   "outputs": [
    {
     "name": "stdout",
     "output_type": "stream",
     "text": [
      "(799905, 3)\n",
      "(199977, 3)\n"
     ]
    }
   ],
   "source": [
    "train_set, test_set = train_test_split(ratings, test_size=0.20, random_state=42)\n",
    "\n",
    "print(train_set.shape)\n",
    "print(test_set.shape)"
   ]
  },
  {
   "cell_type": "code",
   "execution_count": 6,
   "id": "018cb859",
   "metadata": {},
   "outputs": [],
   "source": [
    "data = CollabDataBunch.from_df(train_set, seed=42, valid_pct=0.2)\n"
   ]
  },
  {
   "cell_type": "code",
   "execution_count": 7,
   "id": "a147a57a",
   "metadata": {},
   "outputs": [
    {
     "data": {
      "text/html": [
       "<table border=\"1\" class=\"dataframe\">\n",
       "  <thead>\n",
       "    <tr style=\"text-align: right;\">\n",
       "      <th>userID</th>\n",
       "      <th>songID</th>\n",
       "      <th>target</th>\n",
       "    </tr>\n",
       "  </thead>\n",
       "  <tbody>\n",
       "    <tr>\n",
       "      <td>6382820f9ca77ba05f1b9a1df5839d8ecf8bae0a</td>\n",
       "      <td>SOHHCGC12AB018939A</td>\n",
       "      <td>0.0</td>\n",
       "    </tr>\n",
       "    <tr>\n",
       "      <td>d6dcd54a3762ac06e563aedd5182845c15eff8e5</td>\n",
       "      <td>SOYFGYE12A670215BE</td>\n",
       "      <td>0.0</td>\n",
       "    </tr>\n",
       "    <tr>\n",
       "      <td>372d3657473945bae2f66d28e500f75053cd6673</td>\n",
       "      <td>SORXFLV12AB018C292</td>\n",
       "      <td>0.0</td>\n",
       "    </tr>\n",
       "    <tr>\n",
       "      <td>1214c44d469cb48496073514c695fa07fcd0199a</td>\n",
       "      <td>SOBBKGF12A8C1311EE</td>\n",
       "      <td>0.0</td>\n",
       "    </tr>\n",
       "    <tr>\n",
       "      <td>86fb9e8b68955b378d07bdc77ef0edb1304516ce</td>\n",
       "      <td>SOIUJLL12A8C13F676</td>\n",
       "      <td>0.0</td>\n",
       "    </tr>\n",
       "  </tbody>\n",
       "</table>"
      ],
      "text/plain": [
       "<IPython.core.display.HTML object>"
      ]
     },
     "metadata": {},
     "output_type": "display_data"
    }
   ],
   "source": [
    "data.show_batch()"
   ]
  },
  {
   "cell_type": "markdown",
   "id": "d35a6212",
   "metadata": {},
   "source": [
    "After data preparation, EmbeddingDotBias and EmbeddingNN approaches were tested. EmbeddingDotBias is a Pytorch model used to find embeddings using multi-layer perceptron without biases and with one hidden layer. EmbeddingNN approach, on the other hand, creates a deeper Neural Network suitable for collaborative filtering. It is expected that EmbeddingNN, due to it's bigger complexity of layers is a slower but far more accurate."
   ]
  },
  {
   "cell_type": "markdown",
   "id": "04af5182",
   "metadata": {},
   "source": [
    "## EmbeddingDotBias Model"
   ]
  },
  {
   "cell_type": "code",
   "execution_count": 8,
   "id": "ce9456e7",
   "metadata": {},
   "outputs": [],
   "source": [
    "learn = collab_learner(data, n_factors=50, y_range=(0, 5))"
   ]
  },
  {
   "cell_type": "code",
   "execution_count": 9,
   "id": "f532af90",
   "metadata": {},
   "outputs": [
    {
     "data": {
      "text/html": [
       "\n",
       "    <div>\n",
       "        <style>\n",
       "            /* Turns off some styling */\n",
       "            progress {\n",
       "                /* gets rid of default border in Firefox and Opera. */\n",
       "                border: none;\n",
       "                /* Needs to be in here for Safari polyfill so background images work as expected. */\n",
       "                background-size: auto;\n",
       "            }\n",
       "            .progress-bar-interrupted, .progress-bar-interrupted::-webkit-progress-bar {\n",
       "                background: #F44336;\n",
       "            }\n",
       "        </style>\n",
       "      <progress value='0' class='' max='1' style='width:300px; height:20px; vertical-align: middle;'></progress>\n",
       "      0.00% [0/1 00:00<00:00]\n",
       "    </div>\n",
       "    \n",
       "<table border=\"1\" class=\"dataframe\">\n",
       "  <thead>\n",
       "    <tr style=\"text-align: left;\">\n",
       "      <th>epoch</th>\n",
       "      <th>train_loss</th>\n",
       "      <th>valid_loss</th>\n",
       "      <th>time</th>\n",
       "    </tr>\n",
       "  </thead>\n",
       "  <tbody>\n",
       "  </tbody>\n",
       "</table><p>\n",
       "\n",
       "    <div>\n",
       "        <style>\n",
       "            /* Turns off some styling */\n",
       "            progress {\n",
       "                /* gets rid of default border in Firefox and Opera. */\n",
       "                border: none;\n",
       "                /* Needs to be in here for Safari polyfill so background images work as expected. */\n",
       "                background-size: auto;\n",
       "            }\n",
       "            .progress-bar-interrupted, .progress-bar-interrupted::-webkit-progress-bar {\n",
       "                background: #F44336;\n",
       "            }\n",
       "        </style>\n",
       "      <progress value='99' class='' max='9998' style='width:300px; height:20px; vertical-align: middle;'></progress>\n",
       "      0.99% [99/9998 00:43<1:13:17 5.4825]\n",
       "    </div>\n",
       "    "
      ],
      "text/plain": [
       "<IPython.core.display.HTML object>"
      ]
     },
     "metadata": {},
     "output_type": "display_data"
    },
    {
     "name": "stdout",
     "output_type": "stream",
     "text": [
      "LR Finder is complete, type {learner_name}.recorder.plot() to see the graph.\n"
     ]
    },
    {
     "data": {
      "image/png": "[encoded data removed]",
      "text/plain": [
       "<Figure size 432x288 with 1 Axes>"
      ]
     },
     "metadata": {
      "needs_background": "light"
     },
     "output_type": "display_data"
    }
   ],
   "source": [
    "learn.lr_find()\n",
    "learn.recorder.plot(skip_end=15)"
   ]
  },
  {
   "cell_type": "code",
   "execution_count": 12,
   "id": "7fa91d61",
   "metadata": {},
   "outputs": [
    {
     "data": {
      "text/html": [
       "<table border=\"1\" class=\"dataframe\">\n",
       "  <thead>\n",
       "    <tr style=\"text-align: left;\">\n",
       "      <th>epoch</th>\n",
       "      <th>train_loss</th>\n",
       "      <th>valid_loss</th>\n",
       "      <th>time</th>\n",
       "    </tr>\n",
       "  </thead>\n",
       "  <tbody>\n",
       "    <tr>\n",
       "      <td>0</td>\n",
       "      <td>0.760962</td>\n",
       "      <td>0.872820</td>\n",
       "      <td>30:52</td>\n",
       "    </tr>\n",
       "    <tr>\n",
       "      <td>1</td>\n",
       "      <td>0.749905</td>\n",
       "      <td>0.872643</td>\n",
       "      <td>32:27</td>\n",
       "    </tr>\n",
       "    <tr>\n",
       "      <td>2</td>\n",
       "      <td>0.830461</td>\n",
       "      <td>0.872330</td>\n",
       "      <td>32:55</td>\n",
       "    </tr>\n",
       "    <tr>\n",
       "      <td>3</td>\n",
       "      <td>0.769353</td>\n",
       "      <td>0.871993</td>\n",
       "      <td>33:05</td>\n",
       "    </tr>\n",
       "    <tr>\n",
       "      <td>4</td>\n",
       "      <td>0.760028</td>\n",
       "      <td>0.871689</td>\n",
       "      <td>32:57</td>\n",
       "    </tr>\n",
       "    <tr>\n",
       "      <td>5</td>\n",
       "      <td>0.754670</td>\n",
       "      <td>0.871445</td>\n",
       "      <td>32:53</td>\n",
       "    </tr>\n",
       "    <tr>\n",
       "      <td>6</td>\n",
       "      <td>0.750180</td>\n",
       "      <td>0.871277</td>\n",
       "      <td>32:51</td>\n",
       "    </tr>\n",
       "    <tr>\n",
       "      <td>7</td>\n",
       "      <td>0.717178</td>\n",
       "      <td>0.871186</td>\n",
       "      <td>32:18</td>\n",
       "    </tr>\n",
       "    <tr>\n",
       "      <td>8</td>\n",
       "      <td>0.704273</td>\n",
       "      <td>0.871156</td>\n",
       "      <td>32:03</td>\n",
       "    </tr>\n",
       "    <tr>\n",
       "      <td>9</td>\n",
       "      <td>0.664921</td>\n",
       "      <td>0.871154</td>\n",
       "      <td>31:48</td>\n",
       "    </tr>\n",
       "  </tbody>\n",
       "</table>"
      ],
      "text/plain": [
       "<IPython.core.display.HTML object>"
      ]
     },
     "metadata": {},
     "output_type": "display_data"
    }
   ],
   "source": [
    "learn.fit_one_cycle(10, 1e-6)"
   ]
  },
  {
   "cell_type": "markdown",
   "id": "697bc9e1",
   "metadata": {},
   "source": [
    "## EmbeddingNN Model"
   ]
  },
  {
   "cell_type": "code",
   "execution_count": 8,
   "id": "0ea31339",
   "metadata": {},
   "outputs": [],
   "source": [
    "learn = collab_learner(data, use_nn=True, emb_szs={'userID': 50, 'songID': 50}, layers=[256, 128], y_range=(0, 5))"
   ]
  },
  {
   "cell_type": "code",
   "execution_count": 9,
   "id": "1d898c1d",
   "metadata": {},
   "outputs": [
    {
     "data": {
      "text/html": [
       "\n",
       "    <div>\n",
       "        <style>\n",
       "            /* Turns off some styling */\n",
       "            progress {\n",
       "                /* gets rid of default border in Firefox and Opera. */\n",
       "                border: none;\n",
       "                /* Needs to be in here for Safari polyfill so background images work as expected. */\n",
       "                background-size: auto;\n",
       "            }\n",
       "            .progress-bar-interrupted, .progress-bar-interrupted::-webkit-progress-bar {\n",
       "                background: #F44336;\n",
       "            }\n",
       "        </style>\n",
       "      <progress value='0' class='' max='1' style='width:300px; height:20px; vertical-align: middle;'></progress>\n",
       "      0.00% [0/1 00:00<00:00]\n",
       "    </div>\n",
       "    \n",
       "<table border=\"1\" class=\"dataframe\">\n",
       "  <thead>\n",
       "    <tr style=\"text-align: left;\">\n",
       "      <th>epoch</th>\n",
       "      <th>train_loss</th>\n",
       "      <th>valid_loss</th>\n",
       "      <th>time</th>\n",
       "    </tr>\n",
       "  </thead>\n",
       "  <tbody>\n",
       "  </tbody>\n",
       "</table><p>\n",
       "\n",
       "    <div>\n",
       "        <style>\n",
       "            /* Turns off some styling */\n",
       "            progress {\n",
       "                /* gets rid of default border in Firefox and Opera. */\n",
       "                border: none;\n",
       "                /* Needs to be in here for Safari polyfill so background images work as expected. */\n",
       "                background-size: auto;\n",
       "            }\n",
       "            .progress-bar-interrupted, .progress-bar-interrupted::-webkit-progress-bar {\n",
       "                background: #F44336;\n",
       "            }\n",
       "        </style>\n",
       "      <progress value='99' class='' max='9998' style='width:300px; height:20px; vertical-align: middle;'></progress>\n",
       "      0.99% [99/9998 00:42<1:11:28 2.8792]\n",
       "    </div>\n",
       "    "
      ],
      "text/plain": [
       "<IPython.core.display.HTML object>"
      ]
     },
     "metadata": {},
     "output_type": "display_data"
    },
    {
     "name": "stdout",
     "output_type": "stream",
     "text": [
      "LR Finder is complete, type {learner_name}.recorder.plot() to see the graph.\n"
     ]
    },
    {
     "data": {
      "image/png": "[encoded data removed]",
      "text/plain": [
       "<Figure size 432x288 with 1 Axes>"
      ]
     },
     "metadata": {
      "needs_background": "light"
     },
     "output_type": "display_data"
    }
   ],
   "source": [
    "learn.lr_find()\n",
    "learn.recorder.plot()"
   ]
  },
  {
   "cell_type": "code",
   "execution_count": 10,
   "id": "c2f6bcd9",
   "metadata": {},
   "outputs": [
    {
     "data": {
      "text/html": [
       "<table border=\"1\" class=\"dataframe\">\n",
       "  <thead>\n",
       "    <tr style=\"text-align: left;\">\n",
       "      <th>epoch</th>\n",
       "      <th>train_loss</th>\n",
       "      <th>valid_loss</th>\n",
       "      <th>time</th>\n",
       "    </tr>\n",
       "  </thead>\n",
       "  <tbody>\n",
       "    <tr>\n",
       "      <td>0</td>\n",
       "      <td>0.150604</td>\n",
       "      <td>0.155372</td>\n",
       "      <td>22:50</td>\n",
       "    </tr>\n",
       "    <tr>\n",
       "      <td>1</td>\n",
       "      <td>0.135050</td>\n",
       "      <td>0.154757</td>\n",
       "      <td>32:03</td>\n",
       "    </tr>\n",
       "    <tr>\n",
       "      <td>2</td>\n",
       "      <td>0.156423</td>\n",
       "      <td>0.157439</td>\n",
       "      <td>33:02</td>\n",
       "    </tr>\n",
       "    <tr>\n",
       "      <td>3</td>\n",
       "      <td>0.159002</td>\n",
       "      <td>0.157189</td>\n",
       "      <td>33:28</td>\n",
       "    </tr>\n",
       "    <tr>\n",
       "      <td>4</td>\n",
       "      <td>0.127987</td>\n",
       "      <td>0.154186</td>\n",
       "      <td>33:14</td>\n",
       "    </tr>\n",
       "    <tr>\n",
       "      <td>5</td>\n",
       "      <td>0.147431</td>\n",
       "      <td>0.151811</td>\n",
       "      <td>33:23</td>\n",
       "    </tr>\n",
       "    <tr>\n",
       "      <td>6</td>\n",
       "      <td>0.127835</td>\n",
       "      <td>0.153880</td>\n",
       "      <td>32:47</td>\n",
       "    </tr>\n",
       "    <tr>\n",
       "      <td>7</td>\n",
       "      <td>0.142886</td>\n",
       "      <td>0.155044</td>\n",
       "      <td>32:08</td>\n",
       "    </tr>\n",
       "    <tr>\n",
       "      <td>8</td>\n",
       "      <td>0.097612</td>\n",
       "      <td>0.163690</td>\n",
       "      <td>31:36</td>\n",
       "    </tr>\n",
       "    <tr>\n",
       "      <td>9</td>\n",
       "      <td>0.099753</td>\n",
       "      <td>0.171441</td>\n",
       "      <td>31:10</td>\n",
       "    </tr>\n",
       "  </tbody>\n",
       "</table>"
      ],
      "text/plain": [
       "<IPython.core.display.HTML object>"
      ]
     },
     "metadata": {},
     "output_type": "display_data"
    }
   ],
   "source": [
    "learn.fit_one_cycle(10, 1e-2)"
   ]
  },
  {
   "cell_type": "code",
   "execution_count": 69,
   "id": "bd7759c0",
   "metadata": {},
   "outputs": [],
   "source": [
    "learn.save('./model-5')"
   ]
  },
  {
   "cell_type": "code",
   "execution_count": 11,
   "id": "b56ddb98",
   "metadata": {},
   "outputs": [
    {
     "data": {
      "image/png": "[encoded data removed]",
      "text/plain": [
       "<Figure size 432x288 with 1 Axes>"
      ]
     },
     "metadata": {
      "needs_background": "light"
     },
     "output_type": "display_data"
    },
    {
     "data": {
      "image/png": "[encoded data removed]",
      "text/plain": [
       "<Figure size 432x288 with 1 Axes>"
      ]
     },
     "metadata": {
      "needs_background": "light"
     },
     "output_type": "display_data"
    }
   ],
   "source": [
    "import matplotlib.pyplot as plt\n",
    "import numpy as np\n",
    "import pandas as pd\n",
    "\n",
    "def plot_training(losses_df):\n",
    "    # Data\n",
    "    df=pd.DataFrame({'x_values': range(0, 10), 'y1_values': losses_df['train_loss'], 'y2_values': losses_df['valid_loss']})\n",
    "\n",
    "    # multiple line plots\n",
    "    plt.plot( 'epoch', 'train_loss', data=losses_df, marker='', color='blue', linewidth=2)\n",
    "    plt.plot( 'epoch', 'valid_loss', data=losses_df, marker='', color='orange', linewidth=2)\n",
    "    \n",
    "    # add labels\n",
    "    plt.xlabel(\"Epochs\")\n",
    "    \n",
    "    plt.ylabel(\"Loss\")\n",
    "\n",
    "    # show legend\n",
    "    plt.legend()\n",
    "\n",
    "    # show graph\n",
    "    plt.show()\n",
    "\n",
    "plot_training(pd.DataFrame([[0, 0.760962, 0.872820], [1, 0.749905, 0.872643], [2, 0.830461, 0.872330], [3, 0.769353, 0.871993], [4, 0.760028, 0.871689], [5, 0.754670, 0.871445], [6, 0.750180, 0.871277], [7, 0.717178, 0.871186], [8, 0.704273, 0.871156], [9, 0.664921, 0.871154]], columns=['epoch', 'train_loss', 'valid_loss']))\n",
    "plot_training(pd.DataFrame([[0, 0.150604, 0.155372], [1, 0.135050, 0.154757], [2, 0.156423, 0.157439], [3, 0.159002, 0.157189], [4, 0.127987, 0.154186], [5, 0.147431, 0.151811], [6, 0.127835, 0.153880], [7, 0.142886, 0.155044], [8, 0.097612, 0.163690], [9, 0.099753, 0.171441]], columns=['epoch', 'train_loss', 'valid_loss']))"
   ]
  },
  {
   "cell_type": "markdown",
   "id": "8b5d9528",
   "metadata": {},
   "source": [
    "## Evaluate trained model\n",
    "\n",
    "Evaluate trained model on test dataset and compute RMSE."
   ]
  },
  {
   "cell_type": "code",
   "execution_count": 71,
   "id": "965d88a2",
   "metadata": {},
   "outputs": [
    {
     "data": {
      "text/html": [
       "<table border=\"1\" class=\"dataframe\">\n",
       "  <thead>\n",
       "    <tr style=\"text-align: right;\">\n",
       "      <th>userID</th>\n",
       "      <th>songID</th>\n",
       "      <th>target</th>\n",
       "    </tr>\n",
       "  </thead>\n",
       "  <tbody>\n",
       "    <tr>\n",
       "      <td>4a3ed52a06359e197f751707c629de5c1536fcdb</td>\n",
       "      <td>SOLXXZI12A8AE4733A</td>\n",
       "      <td>1.0</td>\n",
       "    </tr>\n",
       "    <tr>\n",
       "      <td>6dab635b404578aa80b044e6f4ebe39d8379daed</td>\n",
       "      <td>SONCOJJ12A6701FC24</td>\n",
       "      <td>0.0</td>\n",
       "    </tr>\n",
       "    <tr>\n",
       "      <td>937b77575b74f9e22ed027c9c200eb87a6b4dde1</td>\n",
       "      <td>SOAODHY12A8C13C8B5</td>\n",
       "      <td>0.0</td>\n",
       "    </tr>\n",
       "    <tr>\n",
       "      <td>03f7e4ac0d94229253aa4c5f6801e23d268ba1aa</td>\n",
       "      <td>SOPPGAC12A6D4F87E1</td>\n",
       "      <td>0.0</td>\n",
       "    </tr>\n",
       "    <tr>\n",
       "      <td>ffa9ef2e0d1034dcf7973896febb1eb9f6b359cb</td>\n",
       "      <td>SOTVKPX12AF72A556D</td>\n",
       "      <td>0.0</td>\n",
       "    </tr>\n",
       "  </tbody>\n",
       "</table>"
      ],
      "text/plain": [
       "<IPython.core.display.HTML object>"
      ]
     },
     "metadata": {},
     "output_type": "display_data"
    }
   ],
   "source": [
    "test_data = CollabDataBunch.from_df(train_set, test=test_set, seed=42, valid_pct=0.2)\n",
    "test_data.show_batch()\n",
    "test_learn = collab_learner(test_data, use_nn=True, emb_szs={'userID': 50, 'songID': 50}, layers=[256, 128], y_range=(0, 5))\n",
    "learn_loaded = test_learn.load('./model-5')\n",
    "\n"
   ]
  },
  {
   "cell_type": "code",
   "execution_count": 72,
   "id": "2a949837",
   "metadata": {},
   "outputs": [
    {
     "data": {
      "text/html": [],
      "text/plain": [
       "<IPython.core.display.HTML object>"
      ]
     },
     "metadata": {},
     "output_type": "display_data"
    }
   ],
   "source": [
    "preds, y = learn_loaded.get_preds(DatasetType.Test)"
   ]
  },
  {
   "cell_type": "code",
   "execution_count": 12,
   "id": "6c4d756f",
   "metadata": {},
   "outputs": [
    {
     "name": "stdout",
     "output_type": "stream",
     "text": [
      "0.3660267338792369\n"
     ]
    }
   ],
   "source": [
    "from sklearn.metrics import mean_squared_error\n",
    "\n",
    "songs = test_set[['songID', 'playCount']]\n",
    "\n",
    "rmse = mean_squared_error(preds, songs['playCount'], squared=False)\n",
    "rmse"
   ]
  },
  {
   "cell_type": "code",
   "execution_count": null,
   "id": "e4c6d93e",
   "metadata": {},
   "outputs": [],
   "source": []
  }
 ],
 "metadata": {
  "kernelspec": {
   "display_name": "Python 3",
   "language": "python",
   "name": "python3"
  },
  "language_info": {
   "codemirror_mode": {
    "name": "ipython",
    "version": 3
   },
   "file_extension": ".py",
   "mimetype": "text/x-python",
   "name": "python",
   "nbconvert_exporter": "python",
   "pygments_lexer": "ipython3",
   "version": "3.9.0"
  }
 },
 "nbformat": 4,
 "nbformat_minor": 5
}
